{
 "cells": [
  {
   "cell_type": "markdown",
   "metadata": {},
   "source": [
    "# Ejercicio 2"
   ]
  },
  {
   "cell_type": "markdown",
   "metadata": {},
   "source": [
    "Ana es la gerente de una fábrica y quiere minimizar los costes de mano de obra y, a la vez, asegurar que en cada uno de los turnos ($m$ turnos) hay $n$ trabajadores para satisfacer la demanda de producción.\n",
    "\n",
    "Disponemos de los siguientes datos:\n",
    "\n",
    "$c_i$ ≡ coste de mano de obra del trabajador $i$.\n",
    "\n",
    "$t_j$ ≡ demanda de personal en el turno $j$.\n",
    "\n",
    "$d_{ij}$ ≡ disponibilidad del trabajador $i$ en el turno $j$.\n"
   ]
  },
  {
   "cell_type": "markdown",
   "metadata": {},
   "source": [
    "## Formulación general"
   ]
  },
  {
   "cell_type": "code",
   "execution_count": 1,
   "metadata": {},
   "outputs": [],
   "source": [
    "#formulacion general"
   ]
  },
  {
   "cell_type": "code",
   "execution_count": 2,
   "metadata": {},
   "outputs": [],
   "source": [
    "n = 8 #i trabajadores\n",
    "m = 4 #j turnos\n",
    "\n",
    "workers = ['David', 'Enrique', 'Antonio', 'Lucia', 'Eva', 'Tomas', 'Juan', 'Ana']\n",
    "shifts = [i for i in range(0,m)]\n",
    "\n",
    "t = { 0: 4, 1: 1, 2: 5, 3: 2 }\n",
    "\n",
    "d = { \n",
    "    'David': {0:1, 1:1, 2:0, 3:1},\n",
    "    'Enrique': {0:0, 1:1, 2:1, 3:1}, \n",
    "    'Antonio': {0:0, 1:0, 2:1, 3:1},\n",
    "    'Lucia': {0:0, 1:0, 2:1, 3:1},\n",
    "    'Eva': {0:1, 1:0, 2:1, 3:1},\n",
    "    'Tomas': {0:0, 1:1, 2:1, 3:1},\n",
    "    'Juan': {0:1, 1:0, 2:1, 3:1},\n",
    "    'Ana': {0:1, 1:1, 2:1, 3:0}\n",
    "}\n",
    "\n",
    "c = {\n",
    "    'David': 20, \n",
    "    'Enrique': 15,\n",
    "    'Antonio': 35,\n",
    "    'Lucia': 35,\n",
    "    'Eva': 25,\n",
    "    'Tomas': 30,\n",
    "    'Juan': 20,\n",
    "    'Ana': 20   \n",
    "}"
   ]
  },
  {
   "cell_type": "code",
   "execution_count": 3,
   "metadata": {},
   "outputs": [],
   "source": [
    "from pulp import *\n",
    "\n",
    "prob = LpProblem('factory_problem', LpMinimize)"
   ]
  },
  {
   "cell_type": "code",
   "execution_count": 4,
   "metadata": {},
   "outputs": [
    {
     "data": {
      "text/plain": [
       "{'David': {0: b_David_0, 1: b_David_1, 2: b_David_2, 3: b_David_3},\n",
       " 'Enrique': {0: b_Enrique_0, 1: b_Enrique_1, 2: b_Enrique_2, 3: b_Enrique_3},\n",
       " 'Antonio': {0: b_Antonio_0, 1: b_Antonio_1, 2: b_Antonio_2, 3: b_Antonio_3},\n",
       " 'Lucia': {0: b_Lucia_0, 1: b_Lucia_1, 2: b_Lucia_2, 3: b_Lucia_3},\n",
       " 'Eva': {0: b_Eva_0, 1: b_Eva_1, 2: b_Eva_2, 3: b_Eva_3},\n",
       " 'Tomas': {0: b_Tomas_0, 1: b_Tomas_1, 2: b_Tomas_2, 3: b_Tomas_3},\n",
       " 'Juan': {0: b_Juan_0, 1: b_Juan_1, 2: b_Juan_2, 3: b_Juan_3},\n",
       " 'Ana': {0: b_Ana_0, 1: b_Ana_1, 2: b_Ana_2, 3: b_Ana_3}}"
      ]
     },
     "execution_count": 4,
     "metadata": {},
     "output_type": "execute_result"
    }
   ],
   "source": [
    "b = LpVariable.dicts(\"b\",(workers,shifts),0,1, LpInteger)\n",
    "b"
   ]
  },
  {
   "cell_type": "code",
   "execution_count": 5,
   "metadata": {},
   "outputs": [
    {
     "data": {
      "text/plain": [
       "factory_problem:\n",
       "MINIMIZE\n",
       "20*b_Ana_0 + 20*b_Ana_1 + 20*b_Ana_2 + 20*b_Ana_3 + 35*b_Antonio_0 + 35*b_Antonio_1 + 35*b_Antonio_2 + 35*b_Antonio_3 + 20*b_David_0 + 20*b_David_1 + 20*b_David_2 + 20*b_David_3 + 15*b_Enrique_0 + 15*b_Enrique_1 + 15*b_Enrique_2 + 15*b_Enrique_3 + 25*b_Eva_0 + 25*b_Eva_1 + 25*b_Eva_2 + 25*b_Eva_3 + 20*b_Juan_0 + 20*b_Juan_1 + 20*b_Juan_2 + 20*b_Juan_3 + 35*b_Lucia_0 + 35*b_Lucia_1 + 35*b_Lucia_2 + 35*b_Lucia_3 + 30*b_Tomas_0 + 30*b_Tomas_1 + 30*b_Tomas_2 + 30*b_Tomas_3 + 0\n",
       "VARIABLES\n",
       "0 <= b_Ana_0 <= 1 Integer\n",
       "0 <= b_Ana_1 <= 1 Integer\n",
       "0 <= b_Ana_2 <= 1 Integer\n",
       "0 <= b_Ana_3 <= 1 Integer\n",
       "0 <= b_Antonio_0 <= 1 Integer\n",
       "0 <= b_Antonio_1 <= 1 Integer\n",
       "0 <= b_Antonio_2 <= 1 Integer\n",
       "0 <= b_Antonio_3 <= 1 Integer\n",
       "0 <= b_David_0 <= 1 Integer\n",
       "0 <= b_David_1 <= 1 Integer\n",
       "0 <= b_David_2 <= 1 Integer\n",
       "0 <= b_David_3 <= 1 Integer\n",
       "0 <= b_Enrique_0 <= 1 Integer\n",
       "0 <= b_Enrique_1 <= 1 Integer\n",
       "0 <= b_Enrique_2 <= 1 Integer\n",
       "0 <= b_Enrique_3 <= 1 Integer\n",
       "0 <= b_Eva_0 <= 1 Integer\n",
       "0 <= b_Eva_1 <= 1 Integer\n",
       "0 <= b_Eva_2 <= 1 Integer\n",
       "0 <= b_Eva_3 <= 1 Integer\n",
       "0 <= b_Juan_0 <= 1 Integer\n",
       "0 <= b_Juan_1 <= 1 Integer\n",
       "0 <= b_Juan_2 <= 1 Integer\n",
       "0 <= b_Juan_3 <= 1 Integer\n",
       "0 <= b_Lucia_0 <= 1 Integer\n",
       "0 <= b_Lucia_1 <= 1 Integer\n",
       "0 <= b_Lucia_2 <= 1 Integer\n",
       "0 <= b_Lucia_3 <= 1 Integer\n",
       "0 <= b_Tomas_0 <= 1 Integer\n",
       "0 <= b_Tomas_1 <= 1 Integer\n",
       "0 <= b_Tomas_2 <= 1 Integer\n",
       "0 <= b_Tomas_3 <= 1 Integer"
      ]
     },
     "execution_count": 5,
     "metadata": {},
     "output_type": "execute_result"
    }
   ],
   "source": [
    "prob += lpSum([c[i]*b[i][j] for i in workers for j in shifts])\n",
    "prob"
   ]
  },
  {
   "cell_type": "code",
   "execution_count": 6,
   "metadata": {},
   "outputs": [
    {
     "data": {
      "text/plain": [
       "factory_problem:\n",
       "MINIMIZE\n",
       "20*b_Ana_0 + 20*b_Ana_1 + 20*b_Ana_2 + 20*b_Ana_3 + 35*b_Antonio_0 + 35*b_Antonio_1 + 35*b_Antonio_2 + 35*b_Antonio_3 + 20*b_David_0 + 20*b_David_1 + 20*b_David_2 + 20*b_David_3 + 15*b_Enrique_0 + 15*b_Enrique_1 + 15*b_Enrique_2 + 15*b_Enrique_3 + 25*b_Eva_0 + 25*b_Eva_1 + 25*b_Eva_2 + 25*b_Eva_3 + 20*b_Juan_0 + 20*b_Juan_1 + 20*b_Juan_2 + 20*b_Juan_3 + 35*b_Lucia_0 + 35*b_Lucia_1 + 35*b_Lucia_2 + 35*b_Lucia_3 + 30*b_Tomas_0 + 30*b_Tomas_1 + 30*b_Tomas_2 + 30*b_Tomas_3 + 0\n",
       "SUBJECT TO\n",
       "_C1: b_Ana_0 + b_David_0 + b_Eva_0 + b_Juan_0 = 4\n",
       "\n",
       "_C2: b_Ana_1 + b_David_1 + b_Enrique_1 + b_Tomas_1 = 1\n",
       "\n",
       "_C3: b_Ana_2 + b_Antonio_2 + b_Enrique_2 + b_Eva_2 + b_Juan_2 + b_Lucia_2\n",
       " + b_Tomas_2 = 5\n",
       "\n",
       "_C4: b_Antonio_3 + b_David_3 + b_Enrique_3 + b_Eva_3 + b_Juan_3 + b_Lucia_3\n",
       " + b_Tomas_3 = 2\n",
       "\n",
       "VARIABLES\n",
       "0 <= b_Ana_0 <= 1 Integer\n",
       "0 <= b_Ana_1 <= 1 Integer\n",
       "0 <= b_Ana_2 <= 1 Integer\n",
       "0 <= b_Ana_3 <= 1 Integer\n",
       "0 <= b_Antonio_0 <= 1 Integer\n",
       "0 <= b_Antonio_1 <= 1 Integer\n",
       "0 <= b_Antonio_2 <= 1 Integer\n",
       "0 <= b_Antonio_3 <= 1 Integer\n",
       "0 <= b_David_0 <= 1 Integer\n",
       "0 <= b_David_1 <= 1 Integer\n",
       "0 <= b_David_2 <= 1 Integer\n",
       "0 <= b_David_3 <= 1 Integer\n",
       "0 <= b_Enrique_0 <= 1 Integer\n",
       "0 <= b_Enrique_1 <= 1 Integer\n",
       "0 <= b_Enrique_2 <= 1 Integer\n",
       "0 <= b_Enrique_3 <= 1 Integer\n",
       "0 <= b_Eva_0 <= 1 Integer\n",
       "0 <= b_Eva_1 <= 1 Integer\n",
       "0 <= b_Eva_2 <= 1 Integer\n",
       "0 <= b_Eva_3 <= 1 Integer\n",
       "0 <= b_Juan_0 <= 1 Integer\n",
       "0 <= b_Juan_1 <= 1 Integer\n",
       "0 <= b_Juan_2 <= 1 Integer\n",
       "0 <= b_Juan_3 <= 1 Integer\n",
       "0 <= b_Lucia_0 <= 1 Integer\n",
       "0 <= b_Lucia_1 <= 1 Integer\n",
       "0 <= b_Lucia_2 <= 1 Integer\n",
       "0 <= b_Lucia_3 <= 1 Integer\n",
       "0 <= b_Tomas_0 <= 1 Integer\n",
       "0 <= b_Tomas_1 <= 1 Integer\n",
       "0 <= b_Tomas_2 <= 1 Integer\n",
       "0 <= b_Tomas_3 <= 1 Integer"
      ]
     },
     "execution_count": 6,
     "metadata": {},
     "output_type": "execute_result"
    }
   ],
   "source": [
    "for j in shifts:\n",
    "    prob += lpSum([d[i][j]*b[i][j] for i in workers]) == t[j]\n",
    "prob"
   ]
  },
  {
   "cell_type": "code",
   "execution_count": 7,
   "metadata": {},
   "outputs": [
    {
     "name": "stdout",
     "output_type": "stream",
     "text": [
      "1\n",
      "Status: Optimal\n",
      "\n",
      "----Variables----\n",
      "b_Ana_0 = 1.0\n",
      "b_Ana_1 = 0.0\n",
      "b_Ana_2 = 1.0\n",
      "b_Ana_3 = 0.0\n",
      "b_Antonio_0 = 0.0\n",
      "b_Antonio_1 = 0.0\n",
      "b_Antonio_2 = 0.0\n",
      "b_Antonio_3 = 0.0\n",
      "b_David_0 = 1.0\n",
      "b_David_1 = 0.0\n",
      "b_David_2 = 0.0\n",
      "b_David_3 = 1.0\n",
      "b_Enrique_0 = 0.0\n",
      "b_Enrique_1 = 1.0\n",
      "b_Enrique_2 = 1.0\n",
      "b_Enrique_3 = 1.0\n",
      "b_Eva_0 = 1.0\n",
      "b_Eva_1 = 0.0\n",
      "b_Eva_2 = 1.0\n",
      "b_Eva_3 = 0.0\n",
      "b_Juan_0 = 1.0\n",
      "b_Juan_1 = 0.0\n",
      "b_Juan_2 = 1.0\n",
      "b_Juan_3 = 0.0\n",
      "b_Lucia_0 = 0.0\n",
      "b_Lucia_1 = 0.0\n",
      "b_Lucia_2 = 0.0\n",
      "b_Lucia_3 = 0.0\n",
      "b_Tomas_0 = 0.0\n",
      "b_Tomas_1 = 0.0\n",
      "b_Tomas_2 = 1.0\n",
      "b_Tomas_3 = 0.0\n",
      "\n",
      "----Solution----\n",
      "245.0\n"
     ]
    }
   ],
   "source": [
    "print(prob.solve())\n",
    "print(\"Status:\", LpStatus[prob.status])\n",
    "\n",
    "print()\n",
    "print('----Variables----')\n",
    "for v in prob.variables():\n",
    "    print(v.name, \"=\", v.varValue)\n",
    "\n",
    "print()\n",
    "print('----Solution----')\n",
    "print(round(value(prob.objective),2))"
   ]
  },
  {
   "cell_type": "code",
   "execution_count": 17,
   "metadata": {},
   "outputs": [
    {
     "name": "stdout",
     "output_type": "stream",
     "text": [
      "----Human Readable----\n",
      "Turno 0\n",
      "David trabaja en el turno 0\n",
      "Eva trabaja en el turno 0\n",
      "Juan trabaja en el turno 0\n",
      "Ana trabaja en el turno 0\n",
      "\n",
      "Turno 1\n",
      "Enrique trabaja en el turno 1\n",
      "\n",
      "Turno 2\n",
      "Enrique trabaja en el turno 2\n",
      "Eva trabaja en el turno 2\n",
      "Tomas trabaja en el turno 2\n",
      "Juan trabaja en el turno 2\n",
      "Ana trabaja en el turno 2\n",
      "\n",
      "Turno 3\n",
      "David trabaja en el turno 3\n",
      "Enrique trabaja en el turno 3\n",
      "\n"
     ]
    }
   ],
   "source": [
    "sol = { v.name:v.varValue for v in prob.variables()}\n",
    "print('----Human Readable----')\n",
    "for j in shifts:\n",
    "    print(f\"Turno {j}\")\n",
    "    for i in workers:\n",
    "        bij = str(b[i][j])\n",
    "        if sol[bij] == 1:\n",
    "            print(f\"{i} trabaja en el turno {j}\")\n",
    "    print()"
   ]
  },
  {
   "cell_type": "markdown",
   "metadata": {},
   "source": [
    "#### Enrique no puede trabajar en turnos junto con David ni con Juan."
   ]
  },
  {
   "cell_type": "code",
   "execution_count": null,
   "metadata": {},
   "outputs": [],
   "source": [
    "e = {}"
   ]
  },
  {
   "cell_type": "code",
   "execution_count": null,
   "metadata": {},
   "outputs": [],
   "source": [
    "for w in workers:\n",
    "    for w1 in workers:\n",
    "        e\n",
    "        \n",
    "        \n",
    "    "
   ]
  }
 ],
 "metadata": {
  "kernelspec": {
   "display_name": "Python 3",
   "language": "python",
   "name": "python3"
  },
  "language_info": {
   "codemirror_mode": {
    "name": "ipython",
    "version": 3
   },
   "file_extension": ".py",
   "mimetype": "text/x-python",
   "name": "python",
   "nbconvert_exporter": "python",
   "pygments_lexer": "ipython3",
   "version": "3.8.3"
  }
 },
 "nbformat": 4,
 "nbformat_minor": 4
}
