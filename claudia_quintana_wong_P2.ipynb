{
 "cells": [
  {
   "cell_type": "markdown",
   "metadata": {},
   "source": [
    "# Ejercicio 2"
   ]
  },
  {
   "cell_type": "markdown",
   "metadata": {},
   "source": [
    "Ana es la gerente de una fábrica y quiere minimizar los costes de mano de obra y, a la vez, asegurar que en cada uno de los turnos ($m$ turnos) hay $n$ trabajadores para satisfacer la demanda de producción.\n",
    "\n",
    "Disponemos de los siguientes datos:\n",
    "\n",
    "$c_i$ ≡ coste de mano de obra del trabajador $i$.\n",
    "\n",
    "$t_j$ ≡ demanda de personal en el turno $j$.\n",
    "\n",
    "$d_{ij}$ ≡ disponibilidad del trabajador $i$ en el turno $j$.\n"
   ]
  },
  {
   "cell_type": "markdown",
   "metadata": {},
   "source": [
    "## Formulación general"
   ]
  },
  {
   "cell_type": "code",
   "execution_count": null,
   "metadata": {},
   "outputs": [],
   "source": [
    "n = 4\n",
    "\n",
    "shifts = [i for i in range(0,n)]\n",
    "\n",
    "workers = ['David', 'Enrique', 'Antonio', 'Lucía', 'Eva', 'Tomás', 'Juan', 'Ana'] \n",
    "\n",
    "demand = { 0: 4, 1: 1, 2: 5, 3: 2 }\n",
    "\n",
    "workforce = { 'David': {0:1, 1:1, 2:0, 3:1},\n",
    "             'Enrique': {0:0, 1:1, 2:1, 3:1}, \n",
    "             'Antonio': {}\n",
    "    \n",
    "    \n",
    "}"
   ]
  }
 ],
 "metadata": {
  "kernelspec": {
   "display_name": "Python 3",
   "language": "python",
   "name": "python3"
  },
  "language_info": {
   "codemirror_mode": {
    "name": "ipython",
    "version": 3
   },
   "file_extension": ".py",
   "mimetype": "text/x-python",
   "name": "python",
   "nbconvert_exporter": "python",
   "pygments_lexer": "ipython3",
   "version": "3.8.3"
  }
 },
 "nbformat": 4,
 "nbformat_minor": 4
}
