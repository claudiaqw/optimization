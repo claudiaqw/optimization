{
 "cells": [
  {
   "cell_type": "markdown",
   "metadata": {},
   "source": [
    "# Ejercicio 2"
   ]
  },
  {
   "cell_type": "markdown",
   "metadata": {},
   "source": [
    "Ana es la gerente de una fábrica y quiere minimizar los costes de mano de obra y, a la vez, asegurar que en cada uno de los turnos ($m$ turnos) hay $n$ trabajadores para satisfacer la demanda de producción.\n",
    "\n",
    "Disponemos de los siguientes datos:\n",
    "\n",
    "$c_i$ ≡ coste de mano de obra del trabajador $i$.\n",
    "\n",
    "$t_j$ ≡ demanda de personal en el turno $j$.\n",
    "\n",
    "$d_{ij}$ ≡ disponibilidad del trabajador $i$ en el turno $j$.\n"
   ]
  },
  {
   "cell_type": "markdown",
   "metadata": {},
   "source": [
    "## Formulación general"
   ]
  },
  {
   "cell_type": "code",
   "execution_count": null,
   "metadata": {},
   "outputs": [],
   "source": [
    "#formulacion general"
   ]
  },
  {
   "cell_type": "code",
   "execution_count": null,
   "metadata": {},
   "outputs": [],
   "source": [
    "n = 8 #i trabajadores\n",
    "m = 4 #j turnos\n",
    "\n",
    "workers = ['David', 'Enrique', 'Antonio', 'Lucia', 'Eva', 'Tomas', 'Juan', 'Ana']\n",
    "shifts = [i for i in range(0,m)]\n",
    "\n",
    "t = { 0: 4, 1: 1, 2: 5, 3: 2 }\n",
    "\n",
    "d = { \n",
    "    'David': {0:1, 1:1, 2:0, 3:1},\n",
    "    'Enrique': {0:0, 1:1, 2:1, 3:1}, \n",
    "    'Antonio': {0:0, 1:0, 2:1, 3:1},\n",
    "    'Lucia': {0:0, 1:0, 2:1, 3:1},\n",
    "    'Eva': {0:1, 1:0, 2:1, 3:1},\n",
    "    'Tomas': {0:0, 1:1, 2:1, 3:1},\n",
    "    'Juan': {0:1, 1:0, 2:1, 3:1},\n",
    "    'Ana': {0:1, 1:1, 2:1, 3:0}\n",
    "}\n",
    "\n",
    "c = {\n",
    "    'David': 20, \n",
    "    'Enrique': 15,\n",
    "    'Antonio': 35,\n",
    "    'Lucia': 35,\n",
    "    'Eva': 25,\n",
    "    'Tomas': 30,\n",
    "    'Juan': 20,\n",
    "    'Ana': 20   \n",
    "}"
   ]
  },
  {
   "cell_type": "code",
   "execution_count": null,
   "metadata": {},
   "outputs": [],
   "source": [
    "from pulp import *\n",
    "\n",
    "prob = LpProblem('factory_problem', LpMinimize)"
   ]
  },
  {
   "cell_type": "code",
   "execution_count": null,
   "metadata": {},
   "outputs": [],
   "source": [
    "b = LpVariable.dicts(\"b\",(workers,shifts),0,1, LpInteger)\n",
    "b"
   ]
  },
  {
   "cell_type": "code",
   "execution_count": null,
   "metadata": {},
   "outputs": [],
   "source": [
    "prob += lpSum([c[i]*b[i][j] for i in workers for j in shifts])\n",
    "prob"
   ]
  },
  {
   "cell_type": "code",
   "execution_count": null,
   "metadata": {},
   "outputs": [],
   "source": [
    "for j in shifts:\n",
    "    prob += lpSum([d[i][j]*b[i][j] for i in workers]) == t[j]\n",
    "prob"
   ]
  },
  {
   "cell_type": "code",
   "execution_count": null,
   "metadata": {},
   "outputs": [],
   "source": [
    "print(prob.solve())\n",
    "print(\"Status:\", LpStatus[prob.status])\n",
    "\n",
    "print()\n",
    "print('----Variables----')\n",
    "for v in prob.variables():\n",
    "    print(v.name, \"=\", v.varValue)\n",
    "\n",
    "print()\n",
    "print('----Solution----')\n",
    "print(round(value(prob.objective),2))"
   ]
  },
  {
   "cell_type": "code",
   "execution_count": null,
   "metadata": {},
   "outputs": [],
   "source": [
    "sol = { v.name:v.varValue for v in prob.variables()}\n",
    "print('----Human Readable----')\n",
    "for j in shifts:\n",
    "    print(f\"Turno {j}\")\n",
    "    for i in workers:\n",
    "        bij = str(b[i][j])\n",
    "        if sol[bij] == 1:\n",
    "            print(f\"{i} trabaja en el turno {j}\")\n",
    "    print()"
   ]
  },
  {
   "cell_type": "markdown",
   "metadata": {},
   "source": [
    "#### Enrique no puede trabajar en turnos junto con David ni con Juan."
   ]
  },
  {
   "cell_type": "code",
   "execution_count": null,
   "metadata": {},
   "outputs": [],
   "source": [
    "e = {}"
   ]
  },
  {
   "cell_type": "code",
   "execution_count": null,
   "metadata": {},
   "outputs": [],
   "source": [
    "for w in workers:\n",
    "    for w1 in workers:\n",
    "        e\n",
    "        \n",
    "        \n",
    "    "
   ]
  }
 ],
 "metadata": {
  "kernelspec": {
   "display_name": "Python 3",
   "language": "python",
   "name": "python3"
  },
  "language_info": {
   "codemirror_mode": {
    "name": "ipython",
    "version": 3
   },
   "file_extension": ".py",
   "mimetype": "text/x-python",
   "name": "python",
   "nbconvert_exporter": "python",
   "pygments_lexer": "ipython3",
   "version": "3.8.3"
  }
 },
 "nbformat": 4,
 "nbformat_minor": 4
}
