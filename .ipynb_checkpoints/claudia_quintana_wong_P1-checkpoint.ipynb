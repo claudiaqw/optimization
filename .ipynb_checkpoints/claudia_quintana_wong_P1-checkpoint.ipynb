{
 "cells": [
  {
   "cell_type": "markdown",
   "metadata": {},
   "source": [
    "# Ejercicio 1"
   ]
  },
  {
   "cell_type": "markdown",
   "metadata": {},
   "source": [
    "Una compañía vende dos tipos de producto: normal y premium. La compañía tiene 200 toneladas de materia prima para fabricar los productos y tiene disponibles 300 horas de tiempo de fabricación. Cada tonelada de producto normal requiere una tonelada de materia prima y una hora de fabricación, y produce una ganancia de 3.000 euros. Cada tonelada de producto premium requiere también una tonelada de materia prima, pero necesita dos horas de fabricación, y produce una ganancia de 5.000 euros."
   ]
  },
  {
   "cell_type": "markdown",
   "metadata": {},
   "source": [
    "## Formulación general "
   ]
  },
  {
   "cell_type": "markdown",
   "metadata": {},
   "source": [
    "Sean las variables:\n",
    "\n",
    "$x_n$: cantidad a producir del producto normal (en toneladas)\n",
    "\n",
    "$x_p$: cantidad a producir del producto *premium* (en toneladas)"
   ]
  },
  {
   "cell_type": "markdown",
   "metadata": {},
   "source": [
    "Entonces podemos escribir el problema como:\n",
    "\n",
    "\\begin{align*}\n",
    "&\\max 3000x_n + 5000x_p\\\\\n",
    "\\text{s.t.}&\\\\\n",
    "  &x_n + x_p \\leq 200\\\\\n",
    "  &x_n + 2x_p \\leq 300\\\\\n",
    "  &x_n, x_p \\geq 0\n",
    "\\end{align*}"
   ]
  },
  {
   "cell_type": "markdown",
   "metadata": {},
   "source": [
    "## Formulación estándar "
   ]
  },
  {
   "cell_type": "markdown",
   "metadata": {},
   "source": [
    "\\begin{align*}\n",
    "&\\min -3000x_n - 5000x_p\\\\\n",
    "\\text{s.t.}&\\\\\n",
    "  &x_n + x_p + h_1 = 200\\\\\n",
    "  &x_n + 2x_p + h_2 = 300\\\\\n",
    "  &x_n, x_p \\geq 0\n",
    "\\end{align*}\n",
    "\n",
    "\n",
    "donde $h_1$ y $h_2$ son las variables de holguras introducidas para lograr la igualdad."
   ]
  },
  {
   "cell_type": "markdown",
   "metadata": {},
   "source": [
    "## Implementación"
   ]
  },
  {
   "cell_type": "markdown",
   "metadata": {},
   "source": [
    "En esta sección se da solución al problema utilizando la biblioteca _pulp_"
   ]
  },
  {
   "cell_type": "code",
   "execution_count": 1,
   "metadata": {},
   "outputs": [],
   "source": [
    "from pulp import *"
   ]
  },
  {
   "cell_type": "markdown",
   "metadata": {},
   "source": [
    "Se introducen los datos necesarios"
   ]
  },
  {
   "cell_type": "code",
   "execution_count": 2,
   "metadata": {},
   "outputs": [],
   "source": [
    "products = ['n', 'p']\n",
    "time_cost = {'n': 1, 'p': 2}\n",
    "raw_material = {'n': 1, 'p': 1}\n",
    "profits = {'n': 3000, 'p': 5000}"
   ]
  },
  {
   "cell_type": "markdown",
   "metadata": {},
   "source": [
    "Se define el problema y sus variables"
   ]
  },
  {
   "cell_type": "code",
   "execution_count": 3,
   "metadata": {},
   "outputs": [],
   "source": [
    "prob = LpProblem(\"factory_problem\", LpMaximize)"
   ]
  },
  {
   "cell_type": "code",
   "execution_count": 4,
   "metadata": {},
   "outputs": [
    {
     "data": {
      "text/plain": [
       "{'n': X_n, 'p': X_p}"
      ]
     },
     "execution_count": 4,
     "metadata": {},
     "output_type": "execute_result"
    }
   ],
   "source": [
    "vars = LpVariable.dicts(\"X\",products,0,None, LpInteger)\n",
    "vars"
   ]
  },
  {
   "cell_type": "code",
   "execution_count": 5,
   "metadata": {},
   "outputs": [],
   "source": [
    "prob += lpSum([profits[p]*vars[p] for p in products ])"
   ]
  },
  {
   "cell_type": "markdown",
   "metadata": {},
   "source": [
    "Se añaden las restricciones"
   ]
  },
  {
   "cell_type": "code",
   "execution_count": 6,
   "metadata": {},
   "outputs": [
    {
     "data": {
      "text/plain": [
       "factory_problem:\n",
       "MAXIMIZE\n",
       "3000*X_n + 5000*X_p + 0\n",
       "SUBJECT TO\n",
       "_C1: X_n + X_p <= 200\n",
       "\n",
       "_C2: X_n + 2 X_p <= 300\n",
       "\n",
       "VARIABLES\n",
       "0 <= X_n Integer\n",
       "0 <= X_p Integer"
      ]
     },
     "execution_count": 6,
     "metadata": {},
     "output_type": "execute_result"
    }
   ],
   "source": [
    "prob += lpSum([raw_material[p]*vars[p] for p in products]) <= 200\n",
    "prob += lpSum([time_cost[p]*vars[p] for p in products ]) <= 300\n",
    "prob"
   ]
  },
  {
   "cell_type": "code",
   "execution_count": 7,
   "metadata": {},
   "outputs": [
    {
     "name": "stdout",
     "output_type": "stream",
     "text": [
      "1\n",
      "Status: Optimal\n",
      "\n",
      "----Variables----\n",
      "X_n = 100\n",
      "X_p = 100\n",
      "\n",
      "----Solution----\n",
      "800000\n"
     ]
    }
   ],
   "source": [
    "print(prob.solve())\n",
    "print(\"Status:\", LpStatus[prob.status])\n",
    "\n",
    "print()\n",
    "print('----Variables----')\n",
    "for v in prob.variables():\n",
    "    print(v.name, \"=\", v.varValue)\n",
    "\n",
    "print()\n",
    "print('----Solution----')\n",
    "print(round(value(prob.objective),2))"
   ]
  },
  {
   "cell_type": "markdown",
   "metadata": {},
   "source": [
    "El problema tiene solución óptima. Esto se traduce en que la producción de 100 toneladas de cada uno de los productos, normal y *premium*, representa una ganancia de 800.000 euros para la compañía. "
   ]
  },
  {
   "cell_type": "markdown",
   "metadata": {},
   "source": [
    "## Problema dual"
   ]
  },
  {
   "cell_type": "markdown",
   "metadata": {},
   "source": [
    "\\begin{align*}\n",
    "&\\min 200y_n + 300y_p\\\\\n",
    "\\text{s.t.}&\\\\\n",
    "  &y_n + y_p \\geq 3000\\\\\n",
    "  &y_n + 2y_p \\geq 5000\\\\\n",
    "  &y_n, y_p \\geq 0\n",
    "\\end{align*}"
   ]
  }
 ],
 "metadata": {
  "kernelspec": {
   "display_name": "Python 3",
   "language": "python",
   "name": "python3"
  },
  "language_info": {
   "codemirror_mode": {
    "name": "ipython",
    "version": 3
   },
   "file_extension": ".py",
   "mimetype": "text/x-python",
   "name": "python",
   "nbconvert_exporter": "python",
   "pygments_lexer": "ipython3",
   "version": "3.8.5"
  }
 },
 "nbformat": 4,
 "nbformat_minor": 4
}
