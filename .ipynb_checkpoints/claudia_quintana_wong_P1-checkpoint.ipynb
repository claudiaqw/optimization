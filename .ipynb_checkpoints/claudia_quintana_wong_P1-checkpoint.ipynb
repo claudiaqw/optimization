{
 "cells": [
  {
   "cell_type": "markdown",
   "metadata": {},
   "source": [
    "# Ejercicio 1"
   ]
  },
  {
   "cell_type": "markdown",
   "metadata": {},
   "source": [
    "Una compañía vende dos tipos de producto: normal y premium. La compañía tiene 200 toneladas de materia prima para fabricar los productos y tiene disponibles 300 horas de tiempo de fabricación. Cada tonelada de producto normal requiere una tonelada de materia prima y una hora de fabricación, y produce una ganancia de 3.000 euros. Cada tonelada de producto premium requiere también una tonelada de materia prima, pero necesita dos horas de fabricación, y produce una ganancia de 5.000 euros."
   ]
  },
  {
   "cell_type": "markdown",
   "metadata": {},
   "source": [
    "## Formulación general "
   ]
  },
  {
   "cell_type": "markdown",
   "metadata": {},
   "source": [
    "Sean:\n",
    "\n",
    "$x_n$: cantidad del producto normal (en toneladas)\n",
    "\n",
    "$x_p$: cantidad del producto *premium*\n",
    "\n",
    "\n",
    "\n",
    "Entonces podemos escribir el problema como:\n",
    "\n",
    "$$\\max 3000x_n + 5000x_p$$\n",
    "\n",
    "$$s.a$$\n",
    "\n",
    "$$ x_n + x_p <= 200 $$\n",
    "\n",
    "$$x_n + 2x_p <= 300$$\n",
    "\n"
   ]
  },
  {
   "cell_type": "markdown",
   "metadata": {},
   "source": [
    "## Formulación estándar "
   ]
  },
  {
   "cell_type": "markdown",
   "metadata": {},
   "source": [
    "$$\\min -3000x_n - 5000x_p$$\n",
    "\n",
    "$$s.a$$\n",
    "\n",
    "$$ x_n + x_p  + h_1 = 200 $$\n",
    "\n",
    "$$x_n + 2x_p  + h_2 = 300$$\n",
    "\n",
    "donde $h_1$ y $h_2$ son las variables de holguras introducidas para lograr la igualdad."
   ]
  },
  {
   "cell_type": "code",
   "execution_count": 54,
   "metadata": {},
   "outputs": [],
   "source": [
    "from pulp import *"
   ]
  },
  {
   "cell_type": "code",
   "execution_count": 55,
   "metadata": {},
   "outputs": [],
   "source": [
    "products = ['n', 'p']\n",
    "time_cost = {'n': 1, 'p': 2}\n",
    "raw_material = {'n': 1, 'p': 1}\n",
    "profits = {'n': 3000, 'p': 5000}"
   ]
  },
  {
   "cell_type": "code",
   "execution_count": 56,
   "metadata": {},
   "outputs": [],
   "source": [
    "prob = LpProblem(\"factory_problem\", LpMaximize)"
   ]
  },
  {
   "cell_type": "code",
   "execution_count": 57,
   "metadata": {},
   "outputs": [
    {
     "data": {
      "text/plain": [
       "{'n': X_n, 'p': X_p}"
      ]
     },
     "execution_count": 57,
     "metadata": {},
     "output_type": "execute_result"
    }
   ],
   "source": [
    "vars = LpVariable.dicts(\"X\",products,0,None, LpInteger)\n",
    "vars"
   ]
  },
  {
   "cell_type": "code",
   "execution_count": 58,
   "metadata": {},
   "outputs": [
    {
     "data": {
      "text/plain": [
       "factory_problem:\n",
       "MAXIMIZE\n",
       "3000*X_n + 5000*X_p + 0\n",
       "VARIABLES\n",
       "0 <= X_n Integer\n",
       "0 <= X_p Integer"
      ]
     },
     "execution_count": 58,
     "metadata": {},
     "output_type": "execute_result"
    }
   ],
   "source": [
    "prob += lpSum([profits[p]*vars[p] for p in products ])\n",
    "prob"
   ]
  },
  {
   "cell_type": "code",
   "execution_count": 59,
   "metadata": {},
   "outputs": [
    {
     "data": {
      "text/plain": [
       "factory_problem:\n",
       "MAXIMIZE\n",
       "3000*X_n + 5000*X_p + 0\n",
       "SUBJECT TO\n",
       "_C1: X_n + X_p <= 200\n",
       "\n",
       "_C2: X_n + 2 X_p <= 300\n",
       "\n",
       "VARIABLES\n",
       "0 <= X_n Integer\n",
       "0 <= X_p Integer"
      ]
     },
     "execution_count": 59,
     "metadata": {},
     "output_type": "execute_result"
    }
   ],
   "source": [
    "prob += lpSum([raw_material[p]*vars[p] for p in products]) <= 200\n",
    "prob += lpSum([time_cost[p]*vars[p] for p in products ]) <= 300\n",
    "prob"
   ]
  },
  {
   "cell_type": "code",
   "execution_count": 61,
   "metadata": {},
   "outputs": [
    {
     "name": "stdout",
     "output_type": "stream",
     "text": [
      "1\n",
      "Status: Optimal\n",
      "\n",
      "----Variables----\n",
      "X_n = 100.0\n",
      "X_p = 100.0\n",
      "\n",
      "----Solution----\n",
      "800000.0\n"
     ]
    }
   ],
   "source": [
    "print(prob.solve())\n",
    "print(\"Status:\", LpStatus[prob.status])\n",
    "\n",
    "print()\n",
    "print('----Variables----')\n",
    "for v in prob.variables():\n",
    "    print(v.name, \"=\", v.varValue)\n",
    "\n",
    "print()\n",
    "print('----Solution----')\n",
    "print(round(value(prob.objective),2))"
   ]
  },
  {
   "cell_type": "markdown",
   "metadata": {},
   "source": [
    "## Problema dual"
   ]
  },
  {
   "cell_type": "markdown",
   "metadata": {},
   "source": [
    "$$\\min 200y_n + 300y_p $$\n",
    "\n",
    "\n",
    "$$ y_n + y_p >= 3000 $$\n",
    "\n",
    "$$y_n + 2y_p >= 5000 $$\n"
   ]
  },
  {
   "cell_type": "code",
   "execution_count": null,
   "metadata": {},
   "outputs": [],
   "source": []
  }
 ],
 "metadata": {
  "kernelspec": {
   "display_name": "Python 3",
   "language": "python",
   "name": "python3"
  },
  "language_info": {
   "codemirror_mode": {
    "name": "ipython",
    "version": 3
   },
   "file_extension": ".py",
   "mimetype": "text/x-python",
   "name": "python",
   "nbconvert_exporter": "python",
   "pygments_lexer": "ipython3",
   "version": "3.8.5"
  }
 },
 "nbformat": 4,
 "nbformat_minor": 4
}
