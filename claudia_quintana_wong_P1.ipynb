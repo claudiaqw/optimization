{
 "cells": [
  {
   "cell_type": "markdown",
   "metadata": {},
   "source": [
    "# Ejercicio 1 "
   ]
  },
  {
   "cell_type": "markdown",
   "metadata": {},
   "source": [
    "Una compañía vende dos tipos de producto: normal y premium. La compañía tiene 200 toneladas de materia prima para fabricar los productos y tiene disponibles 300 horas de tiempo de fabricación. Cada tonelada de producto normal requiere una tonelada de materia prima y una hora de fabricación, y produce una ganancia de 3.000 euros. Cada tonelada de producto premium requiere también una tonelada de materia prima, pero necesita dos horas de fabricación, y produce una ganancia de 5.000 euros."
   ]
  }
 ],
 "metadata": {
  "kernelspec": {
   "display_name": "Python 3",
   "language": "python",
   "name": "python3"
  },
  "language_info": {
   "codemirror_mode": {
    "name": "ipython",
    "version": 3
   },
   "file_extension": ".py",
   "mimetype": "text/x-python",
   "name": "python",
   "nbconvert_exporter": "python",
   "pygments_lexer": "ipython3",
   "version": "3.8.3"
  }
 },
 "nbformat": 4,
 "nbformat_minor": 4
}
